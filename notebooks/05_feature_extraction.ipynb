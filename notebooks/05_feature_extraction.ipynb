{
 "cells": [
  {
   "cell_type": "code",
   "execution_count": null,
   "metadata": {},
   "outputs": [
    {
     "ename": "",
     "evalue": "",
     "output_type": "error",
     "traceback": [
      "\u001b[1;31mThe kernel failed to start due to the missing module 'wcwidth'. Consider installing this module.\n",
      "\u001b[1;31mClick <a href='https://aka.ms/kernelFailuresMissingModule'>here</a> for more info."
     ]
    }
   ],
   "source": [
    "import numpy as np\n",
    "import matplotlib.pyplot as plt\n",
    "from sklearn import datasets\n",
    "from sklearn.discriminant_analysis import LinearDiscriminantAnalysis\n",
    "\n",
    "# 예제 데이터셋 로드 (예: 붓꽃 데이터셋)\n",
    "iris = datasets.load_iris()\n",
    "X = iris.data\n",
    "y = iris.target\n",
    "\n",
    "# 이진 분류를 위해 클래스 두 개만 선택\n",
    "X = X[y < 2]\n",
    "y = y[y < 2]\n",
    "\n",
    "# LDA 모델 학습 및 데이터 변환\n",
    "lda = LinearDiscriminantAnalysis(n_components=1)\n",
    "X_r = lda.fit(X, y).transform(X)\n",
    "\n",
    "# 시각화\n",
    "colors = ['navy', 'darkorange']\n",
    "lw = 2\n",
    "\n",
    "for color, i, target_name in zip(colors, [0, 1], iris.target_names):\n",
    "    plt.scatter(X_r[y == i], np.zeros_like(X_r[y == i]), alpha=.8, color=color,\n",
    "                label=target_name, lw=lw)\n",
    "\n",
    "plt.legend(loc='best', shadow=False, scatterpoints=1)\n",
    "plt.title('LDA of IRIS dataset')\n",
    "\n",
    "plt.show()\n"
   ]
  }
 ],
 "metadata": {
  "kernelspec": {
   "display_name": "Python 3",
   "language": "python",
   "name": "python3"
  },
  "language_info": {
   "name": "python",
   "version": "3.10.11"
  }
 },
 "nbformat": 4,
 "nbformat_minor": 2
}
